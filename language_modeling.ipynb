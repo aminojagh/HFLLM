{
  "cells": [
    {
      "cell_type": "markdown",
      "metadata": {
        "id": "view-in-github",
        "colab_type": "text"
      },
      "source": [
        "<a href=\"https://colab.research.google.com/github/aminojagh/HFLLM/blob/main/language_modeling.ipynb\" target=\"_parent\"><img src=\"https://colab.research.google.com/assets/colab-badge.svg\" alt=\"Open In Colab\"/></a>"
      ]
    },
    {
      "cell_type": "code",
      "execution_count": null,
      "metadata": {
        "id": "hywhGb29oxtR"
      },
      "outputs": [],
      "source": [
        "# Transformers installation\n",
        "! pip install transformers datasets evaluate accelerate\n",
        "# To install from source instead of the last release, comment the command above and uncomment the following one.\n",
        "# ! pip install git+https://github.com/huggingface/transformers.git"
      ]
    },
    {
      "cell_type": "code",
      "source": [
        "from huggingface_hub import notebook_login\n",
        "notebook_login()"
      ],
      "metadata": {
        "id": "dtRQWVFDBXCT"
      },
      "execution_count": null,
      "outputs": []
    },
    {
      "cell_type": "code",
      "source": [
        "user_name = \"amin-oj\""
      ],
      "metadata": {
        "id": "Xh0VZjnEBcfU"
      },
      "execution_count": null,
      "outputs": []
    },
    {
      "cell_type": "markdown",
      "metadata": {
        "id": "sTeNQi4LoxtX"
      },
      "source": [
        "# Causal language modeling"
      ]
    },
    {
      "cell_type": "markdown",
      "metadata": {
        "id": "VYaHA86BoxtZ"
      },
      "source": [
        "There are two types of language modeling, causal and masked. This guide illustrates causal language modeling.\n",
        "Causal language models are frequently used for text generation. You can use these models for creative applications like\n",
        "choosing your own text adventure or an intelligent coding assistant like Copilot or CodeParrot."
      ]
    },
    {
      "cell_type": "markdown",
      "metadata": {
        "id": "swC_GAwboxtc"
      },
      "source": [
        "Causal language modeling predicts the next token in a sequence of tokens, and the model can only attend to tokens on\n",
        "the left. This means the model cannot see future tokens. GPT-2 is an example of a causal language model.\n",
        "\n",
        "This guide will show you how to:\n",
        "\n",
        "1. Finetune [DistilGPT2](https://huggingface.co/distilbert/distilgpt2) on the [r/askscience](https://www.reddit.com/r/askscience/) subset of the [ELI5](https://huggingface.co/datasets/dany0407/eli5_category) dataset.\n",
        "2. Use your finetuned model for inference."
      ]
    },
    {
      "cell_type": "markdown",
      "metadata": {
        "id": "KPfYcX56oxtf"
      },
      "source": [
        "## Load ELI5 dataset"
      ]
    },
    {
      "cell_type": "code",
      "execution_count": null,
      "metadata": {
        "id": "KRaFXRrpoxth"
      },
      "outputs": [],
      "source": [
        "from datasets import load_dataset\n",
        "eli5 = load_dataset(\"dany0407/eli5_category\", split=\"train[:5000]\")\n",
        "eli5 = eli5.train_test_split(test_size=0.2)"
      ]
    },
    {
      "cell_type": "code",
      "execution_count": null,
      "metadata": {
        "id": "EAZ23IYvoxtj"
      },
      "outputs": [],
      "source": [
        "# eli5[\"train\"][0]"
      ]
    },
    {
      "cell_type": "markdown",
      "metadata": {
        "id": "6NcUEOh0oxtk"
      },
      "source": [
        "While this may look like a lot, you're only really interested in the `text` field. What's cool about language modeling\n",
        "tasks is you don't need labels (also known as an unsupervised task) because the next word *is* the label."
      ]
    },
    {
      "cell_type": "markdown",
      "metadata": {
        "id": "2SldNFBKoxtk"
      },
      "source": [
        "## Preprocess"
      ]
    },
    {
      "cell_type": "code",
      "execution_count": null,
      "metadata": {
        "id": "x7eS5YZboxtm"
      },
      "outputs": [],
      "source": [
        "from transformers import AutoTokenizer\n",
        "tokenizer = AutoTokenizer.from_pretrained(\"distilbert/distilgpt2\")\n",
        "\n",
        "eli5 = eli5.flatten()\n",
        "# eli5[\"train\"][0]"
      ]
    },
    {
      "cell_type": "markdown",
      "metadata": {
        "id": "EDyaV_SQoxtm"
      },
      "source": [
        "Each subfield is now a separate column as indicated by the `answers` prefix, and the `text` field is a list now. Instead\n",
        "of tokenizing each sentence separately, convert the list to a string so you can jointly tokenize them.\n",
        "\n",
        "Here is a first preprocessing function to join the list of strings for each example and tokenize the result:"
      ]
    },
    {
      "cell_type": "code",
      "execution_count": null,
      "metadata": {
        "id": "z7YI_dwjoxtn"
      },
      "outputs": [],
      "source": [
        "def preprocess_function(examples):\n",
        "    return tokenizer([\" \".join(x) for x in examples[\"answers.text\"]])"
      ]
    },
    {
      "cell_type": "markdown",
      "metadata": {
        "id": "ugQI7Fe_oxtn"
      },
      "source": [
        "To apply this preprocessing function over the entire dataset, use the 🤗 Datasets [map](https://huggingface.co/docs/datasets/main/en/package_reference/main_classes#datasets.Dataset.map) method. You can speed up the `map` function by setting `batched=True` to process multiple elements of the dataset at once, and increasing the number of processes with `num_proc`. Remove any columns you don't need:"
      ]
    },
    {
      "cell_type": "code",
      "execution_count": null,
      "metadata": {
        "id": "O6S2Phonoxtn"
      },
      "outputs": [],
      "source": [
        "tokenized_eli5 = eli5.map(\n",
        "    preprocess_function,\n",
        "    batched=True,\n",
        "    num_proc=4,\n",
        "    remove_columns=eli5[\"train\"].column_names,\n",
        ")"
      ]
    },
    {
      "cell_type": "markdown",
      "metadata": {
        "id": "Rc6fxgQnoxto"
      },
      "source": [
        "This dataset contains the token sequences, but some of these are longer than the maximum input length for the model.\n",
        "\n",
        "You can now use a second preprocessing function to\n",
        "\n",
        "- concatenate all the sequences\n",
        "- split the concatenated sequences into shorter chunks defined by `block_size`, which should be both shorter than the maximum input length and short enough for your GPU RAM."
      ]
    },
    {
      "cell_type": "code",
      "execution_count": null,
      "metadata": {
        "id": "QYMJleLNoxto"
      },
      "outputs": [],
      "source": [
        "block_size = 128\n",
        "\n",
        "def group_texts(examples):\n",
        "    # Concatenate all texts.\n",
        "    concatenated_examples = {k: sum(examples[k], []) for k in examples.keys()}\n",
        "    total_length = len(concatenated_examples[list(examples.keys())[0]])\n",
        "\n",
        "    # # -------------------\n",
        "    # print(type(examples)) # lazyBatch\n",
        "    # print(list(examples.keys())) # ['input_ids', 'attention_mask']\n",
        "    # print(total_length)\n",
        "    # # to understand the above line run\n",
        "    # # sum(tokenized_eli5['train']['input_ids'], [])\n",
        "    # # -------------------\n",
        "\n",
        "    # We drop the small remainder, we could add padding if\n",
        "    # the model supported it instead of this drop, you can\n",
        "    # customize this part to your needs.\n",
        "    if total_length >= block_size:\n",
        "        total_length = (total_length // block_size) * block_size\n",
        "    # Split by chunks of block_size.\n",
        "    result = {\n",
        "        k: [t[i : i + block_size] for i in range(0, total_length, block_size)]\n",
        "        for k, t in concatenated_examples.items()\n",
        "    }\n",
        "    result[\"labels\"] = result[\"input_ids\"].copy()\n",
        "    return result"
      ]
    },
    {
      "cell_type": "markdown",
      "metadata": {
        "id": "ywpFFNKZoxto"
      },
      "source": [
        "Apply the `group_texts` function over the entire dataset:"
      ]
    },
    {
      "cell_type": "code",
      "execution_count": null,
      "metadata": {
        "id": "KjGo1xX2oxto"
      },
      "outputs": [],
      "source": [
        "# this is applied on both train and test datasets separately\n",
        "lm_dataset = tokenized_eli5.map(group_texts, batched=True, num_proc=4)\n",
        "\n",
        "# print(lm_dataset['train'])\n",
        "# print(tokenized_eli5['train'])"
      ]
    },
    {
      "cell_type": "markdown",
      "metadata": {
        "id": "X8w4y24Loxtp"
      },
      "source": [
        "Now create a batch of examples using [DataCollatorForLanguageModeling](https://huggingface.co/docs/transformers/main/en/main_classes/data_collator#transformers.DataCollatorForLanguageModeling). It's more efficient to *dynamically pad* the\n",
        "sentences to the longest length in a batch during collation, instead of padding the whole dataset to the maximum length.\n",
        "\n",
        "Use the end-of-sequence token as the padding token and set `mlm=False`. This will use the inputs as labels shifted to the right by one element:"
      ]
    },
    {
      "cell_type": "code",
      "execution_count": null,
      "metadata": {
        "id": "P9pG2DAwoxtp"
      },
      "outputs": [],
      "source": [
        "from transformers import DataCollatorForLanguageModeling\n",
        "tokenizer.pad_token = tokenizer.eos_token\n",
        "data_collator = DataCollatorForLanguageModeling(tokenizer=tokenizer, mlm=False)"
      ]
    },
    {
      "cell_type": "code",
      "source": [
        "# ?DataCollatorForLanguageModeling"
      ],
      "metadata": {
        "id": "6ZF2vt_J2jKV"
      },
      "execution_count": null,
      "outputs": []
    },
    {
      "cell_type": "markdown",
      "metadata": {
        "id": "Kh9iZYoNoxtp"
      },
      "source": [
        "## Train"
      ]
    },
    {
      "cell_type": "markdown",
      "metadata": {
        "id": "wG3maBohoxtq"
      },
      "source": [
        "<Tip>\n",
        "\n",
        "If you aren't familiar with finetuning a model with the [Trainer](https://huggingface.co/docs/transformers/main/en/main_classes/trainer#transformers.Trainer), take a look at the [basic tutorial](https://huggingface.co/docs/transformers/main/en/tasks/../training#train-with-pytorch-trainer)!\n",
        "\n",
        "</Tip>\n",
        "\n",
        "You're ready to start training your model now! Load DistilGPT2 with [AutoModelForCausalLM](https://huggingface.co/docs/transformers/main/en/model_doc/auto#transformers.AutoModelForCausalLM):"
      ]
    },
    {
      "cell_type": "code",
      "execution_count": null,
      "metadata": {
        "id": "QaX7tjDOoxtq"
      },
      "outputs": [],
      "source": [
        "from transformers import AutoModelForCausalLM, TrainingArguments, Trainer\n",
        "model = AutoModelForCausalLM.from_pretrained(\"distilbert/distilgpt2\")"
      ]
    },
    {
      "cell_type": "markdown",
      "metadata": {
        "id": "I-k_zqtSoxtq"
      },
      "source": [
        "At this point, only three steps remain:\n",
        "\n",
        "1. Define your training hyperparameters in [TrainingArguments](https://huggingface.co/docs/transformers/main/en/main_classes/trainer#transformers.TrainingArguments). The only required parameter is `output_dir` which specifies where to save your model. You'll push this model to the Hub by setting `push_to_hub=True` (you need to be signed in to Hugging Face to upload your model).\n",
        "2. Pass the training arguments to [Trainer](https://huggingface.co/docs/transformers/main/en/main_classes/trainer#transformers.Trainer) along with the model, datasets, and data collator.\n",
        "3. Call [train()](https://huggingface.co/docs/transformers/main/en/main_classes/trainer#transformers.Trainer.train) to finetune your model."
      ]
    },
    {
      "cell_type": "code",
      "execution_count": null,
      "metadata": {
        "id": "r58kTIvDoxtr"
      },
      "outputs": [],
      "source": [
        "ckpt_name = \"my_first_eli5_clm-model\"\n",
        "\n",
        "training_args = TrainingArguments(\n",
        "    output_dir=ckpt_name,\n",
        "    eval_strategy=\"epoch\",\n",
        "    learning_rate=2e-5,\n",
        "    weight_decay=0.01,\n",
        "    push_to_hub=True,\n",
        "    report_to=\"none\" # to disable wandb login\n",
        ")\n",
        "\n",
        "trainer = Trainer(\n",
        "    model=model,\n",
        "    args=training_args,\n",
        "    train_dataset=lm_dataset[\"train\"],\n",
        "    eval_dataset=lm_dataset[\"test\"],\n",
        "    data_collator=data_collator,\n",
        "    tokenizer=tokenizer,\n",
        ")\n",
        "\n",
        "trainer.train()"
      ]
    },
    {
      "cell_type": "markdown",
      "metadata": {
        "id": "vS1_j1_Ooxtr"
      },
      "source": [
        "Once training is completed, use the [evaluate()](https://huggingface.co/docs/transformers/main/en/main_classes/trainer#transformers.Trainer.evaluate) method to evaluate your model and get its perplexity:"
      ]
    },
    {
      "cell_type": "code",
      "execution_count": null,
      "metadata": {
        "id": "pp_3ZKrioxtr"
      },
      "outputs": [],
      "source": [
        "import math\n",
        "eval_results = trainer.evaluate()\n",
        "print(f\"Perplexity: {math.exp(eval_results['eval_loss']):.2f}\")"
      ]
    },
    {
      "cell_type": "markdown",
      "metadata": {
        "id": "GmiucG6qoxts"
      },
      "source": [
        "Then share your model to the Hub with the [push_to_hub()](https://huggingface.co/docs/transformers/main/en/main_classes/trainer#transformers.Trainer.push_to_hub) method so everyone can use your model:"
      ]
    },
    {
      "cell_type": "code",
      "execution_count": null,
      "metadata": {
        "id": "YoaY7ijCoxts"
      },
      "outputs": [],
      "source": [
        "trainer.push_to_hub()"
      ]
    },
    {
      "cell_type": "markdown",
      "metadata": {
        "id": "Eb7KKukIoxtz"
      },
      "source": [
        "## Inference"
      ]
    },
    {
      "cell_type": "code",
      "execution_count": null,
      "metadata": {
        "id": "nkSaHuOeoxt0"
      },
      "outputs": [],
      "source": [
        "prompt = \"Somatic hypermutation allows the immune system to\""
      ]
    },
    {
      "cell_type": "markdown",
      "metadata": {
        "id": "uhICVccBoxt0"
      },
      "source": [
        "The simplest way to try out your finetuned model for inference is to use it in a [pipeline()](https://huggingface.co/docs/transformers/main/en/main_classes/pipelines#transformers.pipeline). Instantiate a `pipeline` for text generation with your model, and pass your text to it:"
      ]
    },
    {
      "cell_type": "code",
      "execution_count": null,
      "metadata": {
        "id": "yx4zYGKsoxt0"
      },
      "outputs": [],
      "source": [
        "from transformers import pipeline\n",
        "\n",
        "generator = pipeline(\"text-generation\", model=f\"{user_name}/{ckpt_name}\")\n",
        "generator(prompt)"
      ]
    },
    {
      "cell_type": "markdown",
      "metadata": {
        "id": "QdVoOG-Boxt1"
      },
      "source": [
        "Tokenize the text and return the `input_ids` as PyTorch tensors:"
      ]
    },
    {
      "cell_type": "code",
      "execution_count": null,
      "metadata": {
        "id": "ko9Mg-Leoxt1"
      },
      "outputs": [],
      "source": [
        "from transformers import AutoTokenizer\n",
        "from transformers import AutoModelForCausalLM\n",
        "\n",
        "tokenizer = AutoTokenizer.from_pretrained(f\"{user_name}/{ckpt_name}\")\n",
        "inputs = tokenizer(prompt, return_tensors=\"pt\").input_ids\n",
        "model = AutoModelForCausalLM.from_pretrained(f\"{user_name}/{ckpt_name}\")\n",
        "outputs = model.generate(inputs, max_new_tokens=100, do_sample=True, top_k=50, top_p=0.95)\n",
        "tokenizer.batch_decode(outputs, skip_special_tokens=True)"
      ]
    },
    {
      "cell_type": "markdown",
      "metadata": {
        "id": "CSYUzRpcoxt1"
      },
      "source": [
        "For more details about the different text generation strategies and parameters for controlling generation, check out the [Text generation strategies](https://huggingface.co/docs/transformers/main/en/tasks/../generation_strategies) page."
      ]
    },
    {
      "cell_type": "markdown",
      "source": [
        "# Text classification"
      ],
      "metadata": {
        "id": "JJY5MYGV9WyH"
      }
    },
    {
      "cell_type": "markdown",
      "source": [
        "## Load IMDb dataset"
      ],
      "metadata": {
        "id": "aSHu4xwZ93FF"
      }
    },
    {
      "cell_type": "code",
      "source": [
        "from datasets import load_dataset\n",
        "imdb = load_dataset(\"imdb\")\n",
        "# imdb[\"test\"][0]"
      ],
      "metadata": {
        "id": "VtPmLu_U9VYB"
      },
      "execution_count": null,
      "outputs": []
    },
    {
      "cell_type": "markdown",
      "source": [
        "There are two fields in this dataset:\n",
        "\n",
        "- `text`: the movie review text.\n",
        "- `label`: a value that is either `0` for a negative review or `1` for a positive review."
      ],
      "metadata": {
        "id": "xwjU3-sO9xYj"
      }
    },
    {
      "cell_type": "markdown",
      "source": [
        "## Preprocess"
      ],
      "metadata": {
        "id": "d0l4oafJ94Lv"
      }
    },
    {
      "cell_type": "code",
      "source": [
        "from transformers import AutoTokenizer\n",
        "tokenizer = AutoTokenizer.from_pretrained(\"distilbert/distilbert-base-uncased\")\n",
        "\n",
        "def preprocess_function(examples):\n",
        "    return tokenizer(examples[\"text\"], truncation=True)\n",
        "\n",
        "tokenized_imdb = imdb.map(preprocess_function, batched=True)"
      ],
      "metadata": {
        "id": "sApVFGb89ou9"
      },
      "execution_count": null,
      "outputs": []
    },
    {
      "cell_type": "code",
      "source": [
        "from transformers import DataCollatorWithPadding\n",
        "data_collator = DataCollatorWithPadding(tokenizer=tokenizer)\n",
        "# It's more efficient to *dynamically pad* the sentences\n",
        "# to the longest length in a batch during collation,\n",
        "# instead of padding the whole dataset to the maximum length."
      ],
      "metadata": {
        "id": "nhlsPyLq-FPX"
      },
      "execution_count": null,
      "outputs": []
    },
    {
      "cell_type": "markdown",
      "source": [
        "## Evaluate"
      ],
      "metadata": {
        "id": "-I1HkfRN-UVb"
      }
    },
    {
      "cell_type": "code",
      "source": [
        "import evaluate\n",
        "import numpy as np\n",
        "\n",
        "accuracy = evaluate.load(\"accuracy\")\n",
        "def compute_metrics(eval_pred):\n",
        "    predictions, labels = eval_pred\n",
        "    predictions = np.argmax(predictions, axis=1)\n",
        "    return accuracy.compute(predictions=predictions, references=labels)"
      ],
      "metadata": {
        "id": "lpzt1X9b-U2V"
      },
      "execution_count": null,
      "outputs": []
    },
    {
      "cell_type": "markdown",
      "source": [
        "## Train"
      ],
      "metadata": {
        "id": "qxJ9ZLr1-tcU"
      }
    },
    {
      "cell_type": "code",
      "source": [
        "from transformers import (\n",
        "    AutoModelForSequenceClassification,\n",
        "    TrainingArguments,\n",
        "    Trainer\n",
        ")\n",
        "id2label = {0: \"NEGATIVE\", 1: \"POSITIVE\"}\n",
        "label2id = {\"NEGATIVE\": 0, \"POSITIVE\": 1}\n",
        "\n",
        "model = AutoModelForSequenceClassification.from_pretrained(\n",
        "    \"distilbert/distilbert-base-uncased\",\n",
        "    num_labels=2,\n",
        "    id2label=id2label,\n",
        "    label2id=label2id\n",
        ")"
      ],
      "metadata": {
        "id": "rXj674lo-t4q"
      },
      "execution_count": null,
      "outputs": []
    },
    {
      "cell_type": "code",
      "source": [
        "ckpt_name = \"imdb_text_classification_small\"\n",
        "training_args = TrainingArguments(\n",
        "    output_dir=ckpt_name,\n",
        "    learning_rate=2e-5,\n",
        "    per_device_train_batch_size=16,\n",
        "    per_device_eval_batch_size=16,\n",
        "    num_train_epochs=2,\n",
        "    weight_decay=0.01,\n",
        "    eval_strategy=\"epoch\",\n",
        "    save_strategy=\"epoch\",\n",
        "    load_best_model_at_end=True,\n",
        "    push_to_hub=True,\n",
        "    report_to=\"none\" # to disable wandb login\n",
        ")\n",
        "\n",
        "trainer = Trainer(\n",
        "    model=model,\n",
        "    args=training_args,\n",
        "    train_dataset=tokenized_imdb[\"train\"].shuffle().select(range(5000)),\n",
        "    eval_dataset=tokenized_imdb[\"test\"].shuffle().select(range(1000)),\n",
        "    processing_class=tokenizer,\n",
        "    data_collator=data_collator,\n",
        "    compute_metrics=compute_metrics,\n",
        ")\n",
        "\n",
        "trainer.train()"
      ],
      "metadata": {
        "id": "GhwMvy_t_CsJ"
      },
      "execution_count": null,
      "outputs": []
    },
    {
      "cell_type": "code",
      "source": [
        "trainer.push_to_hub()"
      ],
      "metadata": {
        "id": "wBrNOL-y_F-R"
      },
      "execution_count": null,
      "outputs": []
    },
    {
      "cell_type": "markdown",
      "source": [
        "## Inference"
      ],
      "metadata": {
        "id": "x40kUizp_Iby"
      }
    },
    {
      "cell_type": "code",
      "source": [
        "text = \"\"\"\n",
        "This was a masterpiece. Not completely faithful to the books,\n",
        "but enthralling from beginning to end. Might be my favorite of the three.\n",
        "\"\"\""
      ],
      "metadata": {
        "id": "3LZNcEKv_I56"
      },
      "execution_count": null,
      "outputs": []
    },
    {
      "cell_type": "code",
      "source": [
        "from transformers import pipeline\n",
        "classifier = pipeline(\"sentiment-analysis\", model=f\"{user_name}/{ckpt_name}\")\n",
        "classifier(text)"
      ],
      "metadata": {
        "id": "xs1l6dY7_SDK"
      },
      "execution_count": null,
      "outputs": []
    },
    {
      "cell_type": "markdown",
      "source": [
        "You can also manually replicate the results of the `pipeline` if you'd like:\n",
        "\n",
        "Tokenize the text and return PyTorch tensors:"
      ],
      "metadata": {
        "id": "S0fwXUgG_Z7l"
      }
    },
    {
      "cell_type": "code",
      "source": [
        "from transformers import AutoTokenizer\n",
        "from transformers import AutoModelForSequenceClassification\n",
        "import torch\n",
        "\n",
        "tokenizer = AutoTokenizer.from_pretrained(f\"{user_name}/{ckpt_name}\")\n",
        "inputs = tokenizer(text, return_tensors=\"pt\")\n",
        "\n",
        "model = AutoModelForSequenceClassification.from_pretrained(f\"{user_name}/{ckpt_name}\")\n",
        "with torch.no_grad():\n",
        "    logits = model(**inputs).logits\n",
        "\n",
        "predicted_class_id = logits.argmax().item()\n",
        "model.config.id2label[predicted_class_id]"
      ],
      "metadata": {
        "id": "iMD8vr4m_at7"
      },
      "execution_count": null,
      "outputs": []
    },
    {
      "cell_type": "code",
      "source": [],
      "metadata": {
        "id": "id5zDiGnWRvG"
      },
      "execution_count": null,
      "outputs": []
    }
  ],
  "metadata": {
    "colab": {
      "provenance": [],
      "gpuType": "T4",
      "include_colab_link": true
    },
    "language_info": {
      "name": "python"
    },
    "kernelspec": {
      "name": "python3",
      "display_name": "Python 3"
    },
    "accelerator": "GPU"
  },
  "nbformat": 4,
  "nbformat_minor": 0
}